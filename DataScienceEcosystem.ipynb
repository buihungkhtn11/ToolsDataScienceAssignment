{
 "cells": [
  {
   "cell_type": "markdown",
   "id": "f7872409-5eaf-4d2f-bda5-3f797b85cf52",
   "metadata": {
    "tags": []
   },
   "source": [
    "# Data Science Tools and Ecosystem"
   ]
  },
  {
   "cell_type": "markdown",
   "id": "6ba6ddee-e240-430b-9436-523e43e10c9e",
   "metadata": {},
   "source": [
    "In this notebook, Data Science Tools and Ecosystem are summarized\n",
    "\n",
    "***Objectives:***\n",
    "- Identify in which Kernel your Jupyter notebook is running\n",
    "- Get an overview of code and markdown cells\n",
    "- Create and use Markdown cells\n",
    "- Create Tables in Markdown\n",
    "- Create ordered and unordered lists in Markdown\n",
    "- Use Git and upload repository"
   ]
  },
  {
   "cell_type": "markdown",
   "id": "5a32d2f5-d953-44b0-83c4-4ac6c00099b8",
   "metadata": {
    "tags": []
   },
   "source": [
    "Some of the popular languages that Data Scientists use are:\n",
    "1. Go\n",
    "2. C#\n",
    "3. Python\n",
    "4. JavaScript\n",
    "5. Java\n",
    "6. R"
   ]
  },
  {
   "cell_type": "markdown",
   "id": "e8b9f530-8265-4b98-9c95-be0a732225e9",
   "metadata": {
    "tags": []
   },
   "source": [
    "Some of the commonly used libraries used by Data Scientists include:\n",
    "1. TensorFlow\n",
    "2. NumPy\n",
    "3. SciPy\n",
    "4. Pandas"
   ]
  },
  {
   "cell_type": "markdown",
   "id": "77784cbf-eb92-4cf1-9bad-8d310050cf8d",
   "metadata": {},
   "source": [
    "| Data Science Tools |\n",
    "| -------------|\n",
    "| Apache Spark |\n",
    "| RapidMiner |\n",
    "| TensorFlow |\n",
    "| Apache Hadoop |\n",
    "| Excel |\n",
    "\n"
   ]
  },
  {
   "cell_type": "markdown",
   "id": "028c40d6-7faa-49bb-894f-2e93a50c6911",
   "metadata": {},
   "source": [
    "### Below are a few examples of evaluating arithmetic expressions in Python"
   ]
  },
  {
   "cell_type": "code",
   "execution_count": 9,
   "id": "e387ca7c-e9c0-442f-af72-0e2bb398d95e",
   "metadata": {
    "tags": []
   },
   "outputs": [
    {
     "data": {
      "text/plain": [
       "17"
      ]
     },
     "execution_count": 9,
     "metadata": {},
     "output_type": "execute_result"
    }
   ],
   "source": [
    "# This a simple arithmetic expression to mutiply then add integers\n",
    "(3*4)+5"
   ]
  },
  {
   "cell_type": "code",
   "execution_count": 10,
   "id": "b561059f-10cf-41f3-b883-e258d244fa98",
   "metadata": {
    "tags": []
   },
   "outputs": [
    {
     "data": {
      "text/plain": [
       "3.3333333333333335"
      ]
     },
     "execution_count": 10,
     "metadata": {},
     "output_type": "execute_result"
    }
   ],
   "source": [
    "# This will convert 200 minutes to hours by diving by 60\n",
    "200 / 60"
   ]
  },
  {
   "cell_type": "markdown",
   "id": "26f7ba28-9436-45d5-8b9c-15d5075d581d",
   "metadata": {},
   "source": [
    "## Author hungbv"
   ]
  },
  {
   "cell_type": "code",
   "execution_count": null,
   "id": "c6f68934-45a2-413b-ac23-79de2abbcbe1",
   "metadata": {},
   "outputs": [],
   "source": []
  }
 ],
 "metadata": {
  "kernelspec": {
   "display_name": "Python",
   "language": "python",
   "name": "conda-env-python-py"
  },
  "language_info": {
   "codemirror_mode": {
    "name": "ipython",
    "version": 3
   },
   "file_extension": ".py",
   "mimetype": "text/x-python",
   "name": "python",
   "nbconvert_exporter": "python",
   "pygments_lexer": "ipython3",
   "version": "3.7.12"
  }
 },
 "nbformat": 4,
 "nbformat_minor": 5
}
